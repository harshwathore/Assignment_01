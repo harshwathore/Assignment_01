{
 "cells": [
  {
   "cell_type": "markdown",
   "metadata": {},
   "source": [
    "TOPIC: Python Basics Variable"
   ]
  },
  {
   "cell_type": "markdown",
   "metadata": {},
   "source": [
    "Q1"
   ]
  },
  {
   "cell_type": "code",
   "execution_count": 1,
   "metadata": {},
   "outputs": [
    {
     "name": "stdout",
     "output_type": "stream",
     "text": [
      "The value of x and y before swapping is  5 10\n",
      "The value of x and y after swapping is  10 5\n"
     ]
    }
   ],
   "source": [
    "x = 5\n",
    "y=10\n",
    "print(\"The value of x and y before swapping is \",x,y)\n",
    "x = x+y\n",
    "y = x-y\n",
    "x = x-y\n",
    "print(\"The value of x and y after swapping is \",x,y)\n"
   ]
  },
  {
   "cell_type": "markdown",
   "metadata": {},
   "source": [
    "Q2"
   ]
  },
  {
   "cell_type": "code",
   "execution_count": 2,
   "metadata": {},
   "outputs": [],
   "source": [
    "l = int(input(\"enter the length \"))\n",
    "b = int(input(\"enter the breadth \"))\n",
    "area = l*b\n",
    "print(\"The area of the rectangle is \",area)\n"
   ]
  },
  {
   "cell_type": "markdown",
   "metadata": {},
   "source": [
    "Q3"
   ]
  },
  {
   "cell_type": "code",
   "execution_count": null,
   "metadata": {},
   "outputs": [
    {
     "name": "stdout",
     "output_type": "stream",
     "text": [
      "The temeprature from celcius to fahrenhiet is  37.4\n"
     ]
    }
   ],
   "source": [
    "temperature = float(input(\"enter the temperature \"))\n",
    "Fahrenhiet = (temperature*1.8)+32\n",
    "print(\"The temeprature from celcius to fahrenhiet is \",Fahrenhiet)\n"
   ]
  },
  {
   "cell_type": "markdown",
   "metadata": {},
   "source": [
    "TOPIC: String Based Questions"
   ]
  },
  {
   "cell_type": "markdown",
   "metadata": {},
   "source": [
    "Q1"
   ]
  },
  {
   "cell_type": "code",
   "execution_count": null,
   "metadata": {},
   "outputs": [
    {
     "name": "stdout",
     "output_type": "stream",
     "text": [
      "The length of the string is  5\n"
     ]
    }
   ],
   "source": [
    "str = input(\"Enter the string \")\n",
    "print(\"The length of the string is \",len(str))"
   ]
  },
  {
   "cell_type": "markdown",
   "metadata": {},
   "source": [
    "Q2"
   ]
  },
  {
   "cell_type": "code",
   "execution_count": null,
   "metadata": {},
   "outputs": [
    {
     "name": "stdout",
     "output_type": "stream",
     "text": [
      "1\n"
     ]
    }
   ],
   "source": [
    "vowel = 'aeiouAEIOU'\n",
    "cnt = 0\n",
    "str = input(\"Enter a string \")\n",
    "for i in str:\n",
    "    if i in vowel:\n",
    "        cnt = cnt+1\n",
    "print(cnt)"
   ]
  },
  {
   "cell_type": "markdown",
   "metadata": {},
   "source": [
    "Q3"
   ]
  },
  {
   "cell_type": "code",
   "execution_count": null,
   "metadata": {},
   "outputs": [
    {
     "name": "stdout",
     "output_type": "stream",
     "text": [
      "String after reversing is  hsrah\n"
     ]
    }
   ],
   "source": [
    "str = input(\"Enter a string \")\n",
    "rev_str = str[::-1]\n",
    "print(\"String after reversing is \",rev_str)"
   ]
  },
  {
   "cell_type": "markdown",
   "metadata": {},
   "source": [
    "Q4"
   ]
  },
  {
   "cell_type": "code",
   "execution_count": null,
   "metadata": {},
   "outputs": [
    {
     "name": "stdout",
     "output_type": "stream",
     "text": [
      "String is not Palindrome\n"
     ]
    }
   ],
   "source": [
    "str = input(\"Enter a string \")\n",
    "rev_str = str[::-1]\n",
    "if str==rev_str:\n",
    "    print(\"String is Palindrome\")\n",
    "else:\n",
    "    print(\"String is not Palindrome\")"
   ]
  },
  {
   "cell_type": "markdown",
   "metadata": {},
   "source": [
    "Q5"
   ]
  },
  {
   "cell_type": "code",
   "execution_count": null,
   "metadata": {},
   "outputs": [
    {
     "name": "stdout",
     "output_type": "stream",
     "text": [
      "The string after removing spaces is  kfsfsk\n"
     ]
    }
   ],
   "source": [
    "str = input(\"Enter a string to remove spaces \")\n",
    "str = str.replace(\" \",\"\")\n",
    "print(\"The string after removing spaces is \",str)"
   ]
  },
  {
   "cell_type": "code",
   "execution_count": null,
   "metadata": {},
   "outputs": [],
   "source": []
  }
 ],
 "metadata": {
  "kernelspec": {
   "display_name": "Python 3",
   "language": "python",
   "name": "python3"
  },
  "language_info": {
   "codemirror_mode": {
    "name": "ipython",
    "version": 3
   },
   "file_extension": ".py",
   "mimetype": "text/x-python",
   "name": "python",
   "nbconvert_exporter": "python",
   "pygments_lexer": "ipython3",
   "version": "3.11.1"
  },
  "orig_nbformat": 4
 },
 "nbformat": 4,
 "nbformat_minor": 2
}
